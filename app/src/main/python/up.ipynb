{
 "cells": [
  {
   "cell_type": "code",
   "execution_count": null,
   "metadata": {
    "collapsed": true
   },
   "outputs": [],
   "source": [
    "graph = {\"Bmsit1\":{\"Bmsit3\":176,\"Bmsit2\":124},\n",
    "         \"Bmsit3\":{\"Bmsit4\":58},\n",
    "         \"Bmsit4\":{\"Bmsit5\":46,\"Bmsit6\":54},\n",
    "         \"Bmsit6\":{\"Bmsit7\":176},\n",
    "         \"Bmsit7\":{\"Bmsit\":70,\"Bmsit\":78},\n",
    "         \"Bmsit8\":{\"Bmsit\":130},\n",
    "         \"Bmsit9\":{\"Bmsit\":92},\n",
    "         \"Bmsit0\":{\"Bmsit\":74,\"Bmsit\":117}}\n",
    "\n",
    "def dijkstra(graph,start,goal):\n",
    "    s_dis= {}\n",
    "    pre = {}\n",
    "    notseen= graph\n",
    "    infinity = 9999999\n",
    "    path = []\n",
    "    for node in notseen:\n",
    "        s_dis[node] = infinity\n",
    "    s_dis[start] = 0\n",
    "\n",
    "    while notseen:\n",
    "        mini = None\n",
    "        for node in notseen:\n",
    "            if mini is None:\n",
    "                mini = node\n",
    "            elif s_dis[node] < s_dis[mini]:\n",
    "                mini = node\n",
    "\n",
    "        for cNode, w in graph[mini].items():\n",
    "            if w + s_dis[mini] < s_dis[cNode]:\n",
    "                s_dis[cNode] = w + s_dis[mini]\n",
    "                pre[cNode] = mini\n",
    "        notseen.pop(mini)\n",
    "\n",
    "    current= goal\n",
    "    while current != start:\n",
    "        try:\n",
    "            path.insert(0,current)\n",
    "            current = pre[current]\n",
    "        except KeyError:\n",
    "            break\n",
    "    path.insert(0,start)\n",
    "    if s_dis[goal] != infinity:\n",
    "        return path\n",
    "\n",
    "\n"
   ]
  }
 ],
 "metadata": {
  "kernelspec": {
   "display_name": "Python 2",
   "language": "python",
   "name": "python2"
  },
  "language_info": {
   "codemirror_mode": {
    "name": "ipython",
    "version": 2
   },
   "file_extension": ".py",
   "mimetype": "text/x-python",
   "name": "python",
   "nbconvert_exporter": "python",
   "pygments_lexer": "ipython2",
   "version": "2.7.6"
  }
 },
 "nbformat": 4,
 "nbformat_minor": 0
}
